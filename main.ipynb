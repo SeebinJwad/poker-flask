{
 "cells": [
  {
   "cell_type": "code",
   "execution_count": 33,
   "id": "42013684",
   "metadata": {
    "ExecuteTime": {
     "end_time": "2021-10-31T15:59:56.421776Z",
     "start_time": "2021-10-31T15:59:56.401787Z"
    }
   },
   "outputs": [],
   "source": [
    "import os\n",
    "from google.cloud import speech\n",
    "from google.cloud import texttospeech as tts\n",
    "import argparse\n",
    "import uuid\n",
    "from google.cloud import dialogflow\n",
    "from IPython.display import Javascript"
   ]
  },
  {
   "cell_type": "code",
   "execution_count": 3,
   "id": "6c49ddb4",
   "metadata": {
    "ExecuteTime": {
     "end_time": "2021-10-31T15:22:42.671478Z",
     "start_time": "2021-10-31T15:22:21.431115Z"
    }
   },
   "outputs": [
    {
     "name": "stdout",
     "output_type": "stream",
     "text": [
      "Collecting dialogflow"
     ]
    },
    {
     "name": "stderr",
     "output_type": "stream",
     "text": [
      "ERROR: Could not install packages due to an OSError: [WinError 5] Access is denied: 'C:\\\\Users\\\\kazij\\\\AppData\\\\Local\\\\Programs\\\\Python\\\\Python39\\\\Lib\\\\site-packages\\\\google\\\\~rotobuf\\\\internal\\\\_api_implementation.cp39-win_amd64.pyd'\n",
      "Consider using the `--user` option or check the permissions.\n",
      "\n",
      "WARNING: You are using pip version 21.2.3; however, version 21.3.1 is available.\n",
      "You should consider upgrading via the 'c:\\users\\kazij\\appdata\\local\\programs\\python\\python39\\python.exe -m pip install --upgrade pip' command.\n"
     ]
    },
    {
     "name": "stdout",
     "output_type": "stream",
     "text": [
      "\n",
      "  Downloading dialogflow-1.1.1-py2.py3-none-any.whl (355 kB)\n",
      "Collecting google-api-core[grpc]<2.0.0dev,>=1.14.0\n",
      "  Downloading google_api_core-1.31.3-py2.py3-none-any.whl (93 kB)\n",
      "Requirement already satisfied: pytz in c:\\users\\kazij\\appdata\\local\\programs\\python\\python39\\lib\\site-packages (from google-api-core[grpc]<2.0.0dev,>=1.14.0->dialogflow) (2021.1)\n",
      "Collecting protobuf<3.18.0,>=3.12.0\n",
      "  Downloading protobuf-3.17.3-cp39-cp39-win_amd64.whl (909 kB)\n",
      "Requirement already satisfied: packaging>=14.3 in c:\\users\\kazij\\appdata\\local\\programs\\python\\python39\\lib\\site-packages (from google-api-core[grpc]<2.0.0dev,>=1.14.0->dialogflow) (20.9)\n",
      "Requirement already satisfied: setuptools>=40.3.0 in c:\\users\\kazij\\appdata\\local\\programs\\python\\python39\\lib\\site-packages (from google-api-core[grpc]<2.0.0dev,>=1.14.0->dialogflow) (56.0.0)\n",
      "Collecting google-auth<2.0dev,>=1.25.0\n",
      "  Downloading google_auth-1.35.0-py2.py3-none-any.whl (152 kB)\n",
      "Requirement already satisfied: requests<3.0.0dev,>=2.18.0 in c:\\users\\kazij\\appdata\\local\\programs\\python\\python39\\lib\\site-packages (from google-api-core[grpc]<2.0.0dev,>=1.14.0->dialogflow) (2.25.1)\n",
      "Requirement already satisfied: googleapis-common-protos<2.0dev,>=1.6.0 in c:\\users\\kazij\\appdata\\local\\programs\\python\\python39\\lib\\site-packages (from google-api-core[grpc]<2.0.0dev,>=1.14.0->dialogflow) (1.53.0)\n",
      "Requirement already satisfied: six>=1.13.0 in c:\\users\\kazij\\appdata\\local\\programs\\python\\python39\\lib\\site-packages (from google-api-core[grpc]<2.0.0dev,>=1.14.0->dialogflow) (1.16.0)\n",
      "Requirement already satisfied: grpcio<2.0dev,>=1.29.0 in c:\\users\\kazij\\appdata\\local\\programs\\python\\python39\\lib\\site-packages (from google-api-core[grpc]<2.0.0dev,>=1.14.0->dialogflow) (1.41.1)\n",
      "Requirement already satisfied: cachetools<5.0,>=2.0.0 in c:\\users\\kazij\\appdata\\local\\programs\\python\\python39\\lib\\site-packages (from google-auth<2.0dev,>=1.25.0->google-api-core[grpc]<2.0.0dev,>=1.14.0->dialogflow) (4.2.4)\n",
      "Requirement already satisfied: pyasn1-modules>=0.2.1 in c:\\users\\kazij\\appdata\\local\\programs\\python\\python39\\lib\\site-packages (from google-auth<2.0dev,>=1.25.0->google-api-core[grpc]<2.0.0dev,>=1.14.0->dialogflow) (0.2.8)\n",
      "Requirement already satisfied: rsa<5,>=3.1.4 in c:\\users\\kazij\\appdata\\local\\programs\\python\\python39\\lib\\site-packages (from google-auth<2.0dev,>=1.25.0->google-api-core[grpc]<2.0.0dev,>=1.14.0->dialogflow) (4.7.2)\n",
      "Requirement already satisfied: pyparsing>=2.0.2 in c:\\users\\kazij\\appdata\\local\\programs\\python\\python39\\lib\\site-packages (from packaging>=14.3->google-api-core[grpc]<2.0.0dev,>=1.14.0->dialogflow) (2.4.7)\n",
      "Requirement already satisfied: pyasn1<0.5.0,>=0.4.6 in c:\\users\\kazij\\appdata\\local\\programs\\python\\python39\\lib\\site-packages (from pyasn1-modules>=0.2.1->google-auth<2.0dev,>=1.25.0->google-api-core[grpc]<2.0.0dev,>=1.14.0->dialogflow) (0.4.8)\n",
      "Requirement already satisfied: urllib3<1.27,>=1.21.1 in c:\\users\\kazij\\appdata\\local\\programs\\python\\python39\\lib\\site-packages (from requests<3.0.0dev,>=2.18.0->google-api-core[grpc]<2.0.0dev,>=1.14.0->dialogflow) (1.26.5)\n",
      "Requirement already satisfied: chardet<5,>=3.0.2 in c:\\users\\kazij\\appdata\\local\\programs\\python\\python39\\lib\\site-packages (from requests<3.0.0dev,>=2.18.0->google-api-core[grpc]<2.0.0dev,>=1.14.0->dialogflow) (4.0.0)\n",
      "Requirement already satisfied: certifi>=2017.4.17 in c:\\users\\kazij\\appdata\\local\\programs\\python\\python39\\lib\\site-packages (from requests<3.0.0dev,>=2.18.0->google-api-core[grpc]<2.0.0dev,>=1.14.0->dialogflow) (2021.5.30)\n",
      "Requirement already satisfied: idna<3,>=2.5 in c:\\users\\kazij\\appdata\\local\\programs\\python\\python39\\lib\\site-packages (from requests<3.0.0dev,>=2.18.0->google-api-core[grpc]<2.0.0dev,>=1.14.0->dialogflow) (2.10)\n",
      "Installing collected packages: protobuf, google-auth, google-api-core, dialogflow\n",
      "  Attempting uninstall: protobuf\n",
      "    Found existing installation: protobuf 3.19.1\n",
      "    Uninstalling protobuf-3.19.1:\n",
      "      Successfully uninstalled protobuf-3.19.1\n"
     ]
    }
   ],
   "source": [
    "# !pip uninstall google-cloud\n",
    "# !pip install --upgrade google-cloud-texttospeech\n",
    "# !pip install google-cloud-dialogflow\n",
    "!pip install dialogflow"
   ]
  },
  {
   "cell_type": "code",
   "execution_count": 36,
   "id": "c380a525",
   "metadata": {
    "ExecuteTime": {
     "end_time": "2021-10-31T16:01:13.862864Z",
     "start_time": "2021-10-31T16:01:13.835880Z"
    }
   },
   "outputs": [],
   "source": [
    "os.environ['GOOGLE_APPLICATION_CREDENTIALS'] = 'client-service-key.json'\n",
    "speech_client = speech.SpeechClient()"
   ]
  },
  {
   "cell_type": "code",
   "execution_count": 68,
   "id": "e51a4a40",
   "metadata": {
    "ExecuteTime": {
     "end_time": "2021-10-31T16:22:57.532674Z",
     "start_time": "2021-10-31T16:22:57.523691Z"
    }
   },
   "outputs": [],
   "source": [
    "def speech_to_text(mp3_filename):\n",
    "    mp3_file = mp3_filename # \"recording.wav\"\n",
    "\n",
    "    with open(mp3_file, 'rb') as file:\n",
    "        byte_mp3 = file.read()\n",
    "\n",
    "    audio_mp3 = speech.RecognitionAudio(content=byte_mp3)\n",
    "\n",
    "    config_mp3 = speech.RecognitionConfig(\n",
    "        sample_rate_hertz = 48000,\n",
    "        enable_automatic_punctuation = True,\n",
    "        language_code = 'en-US'\n",
    "    )\n",
    "\n",
    "    response_standard_mp3 = speech_client.recognize(\n",
    "        config = config_mp3,\n",
    "        audio = audio_mp3\n",
    "    )\n",
    "\n",
    "    return response_standard_mp3"
   ]
  },
  {
   "cell_type": "code",
   "execution_count": 40,
   "id": "b7c519c7",
   "metadata": {
    "ExecuteTime": {
     "end_time": "2021-10-31T16:01:49.713798Z",
     "start_time": "2021-10-31T16:01:45.016572Z"
    }
   },
   "outputs": [
    {
     "name": "stdout",
     "output_type": "stream",
     "text": [
      "results {\n",
      "  alternatives {\n",
      "    transcript: \"I forgot when my project was too and now I can\\'t get away with it. Should I drop out of my classes or should I do something else? In the meantime? I\\'m shopping with Tom and Jerry. They\\'re both my best friend\\'s and now it\\'s Black Friday. Thank you.\"\n",
      "    confidence: 0.9601263999938965\n",
      "  }\n",
      "}\n",
      "total_billed_time {\n",
      "  seconds: 30\n",
      "}\n",
      "\n"
     ]
    }
   ],
   "source": [
    "print(response := speech_to_text(\"recording.wav\"))"
   ]
  },
  {
   "cell_type": "code",
   "execution_count": 60,
   "id": "ca099a4b",
   "metadata": {
    "ExecuteTime": {
     "end_time": "2021-10-31T16:08:30.552898Z",
     "start_time": "2021-10-31T16:08:30.530903Z"
    }
   },
   "outputs": [
    {
     "name": "stdout",
     "output_type": "stream",
     "text": [
      "I forgot when my project was too and now I can't get away with it. Should I drop out of my classes or should I do something else? In the meantime? I'm shopping with Tom and Jerry. They're both my best friend's and now it's Black Friday. Thank you.\n"
     ]
    }
   ],
   "source": [
    "print(response_str := (str(response.results)[31:-38]).replace(\"\\\\\",\"\"))"
   ]
  },
  {
   "cell_type": "code",
   "execution_count": 64,
   "id": "ce09cfbc",
   "metadata": {
    "ExecuteTime": {
     "end_time": "2021-10-31T16:15:34.539671Z",
     "start_time": "2021-10-31T16:15:34.519654Z"
    }
   },
   "outputs": [],
   "source": [
    "def text_to_wav(voice_name: str, text: str):\n",
    "    language_code = \"-\".join(voice_name.split(\"-\")[:2])\n",
    "    text_input = tts.SynthesisInput(text=text)\n",
    "    voice_params = tts.VoiceSelectionParams(\n",
    "        language_code=language_code, name=voice_name\n",
    "    )\n",
    "    audio_config = tts.AudioConfig(audio_encoding=tts.AudioEncoding.LINEAR16)\n",
    "\n",
    "    client = tts.TextToSpeechClient()\n",
    "    response = client.synthesize_speech(\n",
    "        input=text_input, voice=voice_params, audio_config=audio_config\n",
    "    )\n",
    "\n",
    "    filename = f\"{language_code}.wav\"\n",
    "    with open(filename, \"wb\") as out:\n",
    "        out.write(response.audio_content)\n",
    "        print(f'Generated speech saved to \"{filename}\"')"
   ]
  },
  {
   "cell_type": "code",
   "execution_count": 72,
   "id": "c6247837",
   "metadata": {
    "ExecuteTime": {
     "end_time": "2021-10-31T03:38:01.238339Z",
     "start_time": "2021-10-31T03:38:00.754169Z"
    }
   },
   "outputs": [
    {
     "name": "stdout",
     "output_type": "stream",
     "text": [
      "Generated speech saved to \"en-US.wav\"\n"
     ]
    }
   ],
   "source": [
    "text_to_wav(\"en-US-Wavenet-D\", \"What is the temperature in Sydney?\")"
   ]
  },
  {
   "cell_type": "code",
   "execution_count": null,
   "id": "a9422eea",
   "metadata": {},
   "outputs": [],
   "source": [
    "# [START dialogflow_detect_intent_text]\n",
    "# project id , language code, en-US\n",
    "def detect_intent_texts(project_id, session_id, texts, language_code='en-US'):\n",
    "    \"\"\"Returns the result of detect intent with texts as inputs.\n",
    "    Using the same `session_id` between requests allows continuation\n",
    "    of the conversation.\"\"\"\n",
    "    from google.cloud import dialogflow\n",
    "\n",
    "    session_client = dialogflow.SessionsClient()\n",
    "\n",
    "    session = session_client.session_path(project_id, session_id)\n",
    "    print(\"Session path: {}\\n\".format(session))\n",
    "\n",
    "    for text in texts:\n",
    "        text_input = dialogflow.TextInput(text=text, language_code=language_code)\n",
    "\n",
    "        query_input = dialogflow.QueryInput(text=text_input)\n",
    "\n",
    "        response = session_client.detect_intent(\n",
    "            request={\"session\": session, \"query_input\": query_input}\n",
    "        )\n",
    "\n",
    "        print(\"=\" * 20)\n",
    "        print(\"Query text: {}\".format(response.query_result.query_text))\n",
    "        print(\n",
    "            \"Detected intent: {} (confidence: {})\\n\".format(\n",
    "                response.query_result.intent.display_name,\n",
    "                response.query_result.intent_detection_confidence,\n",
    "            )\n",
    "        )\n",
    "        print(\"Fulfillment text: {}\\n\".format(response.query_result.fulfillment_text))"
   ]
  },
  {
   "cell_type": "code",
   "execution_count": 72,
   "id": "39f7bf46",
   "metadata": {
    "ExecuteTime": {
     "end_time": "2021-10-31T16:24:34.586949Z",
     "start_time": "2021-10-31T16:24:34.396799Z"
    }
   },
   "outputs": [
    {
     "name": "stdout",
     "output_type": "stream",
     "text": [
      "Session path: projects/teak-vent-330619/agent/sessions/user_id\n",
      "\n",
      "\"Hello! How can I help you?\"\n"
     ]
    }
   ],
   "source": [
    "text_input = \"Hello\"\n",
    "\n",
    "os.environ['GOOGLE_APPLICATION_CREDENTIALS'] = 'client-service-key.json'\n",
    "session_client = dialogflow.SessionsClient()\n",
    "session = session_client.session_path(\"teak-vent-330619\", \"user_id\")\n",
    "\n",
    "print(\"Session path: {}\\n\".format(session))\n",
    "\n",
    "text_input = dialogflow.TextInput(text=text_input, language_code=\"en-US\")\n",
    "\n",
    "query_input = dialogflow.QueryInput(text=text_input)\n",
    "\n",
    "response = session_client.detect_intent(\n",
    "    request={\"session\": session, \"query_input\": query_input}\n",
    ")\n",
    "message_response_raw = response.query_result.fulfillment_messages\n",
    "print(response_clean := str(message_response_raw)[16:-4])\n"
   ]
  },
  {
   "cell_type": "code",
   "execution_count": 73,
   "id": "aa1fe2ab",
   "metadata": {
    "ExecuteTime": {
     "end_time": "2021-10-31T16:25:05.782869Z",
     "start_time": "2021-10-31T16:25:05.421648Z"
    }
   },
   "outputs": [
    {
     "name": "stdout",
     "output_type": "stream",
     "text": [
      "Generated speech saved to \"en-US.wav\"\n"
     ]
    }
   ],
   "source": [
    "text_to_wav(\"en-US-Wavenet-D\", response_clean)"
   ]
  }
 ],
 "metadata": {
  "kernelspec": {
   "display_name": "Python 3",
   "language": "python",
   "name": "python3"
  },
  "language_info": {
   "codemirror_mode": {
    "name": "ipython",
    "version": 3
   },
   "file_extension": ".py",
   "mimetype": "text/x-python",
   "name": "python",
   "nbconvert_exporter": "python",
   "pygments_lexer": "ipython3",
   "version": "3.9.5"
  }
 },
 "nbformat": 4,
 "nbformat_minor": 5
}
